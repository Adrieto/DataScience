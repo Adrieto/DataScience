{
 "cells": [
  {
   "attachments": {},
   "cell_type": "markdown",
   "metadata": {},
   "source": [
    "# SEA LEVEL PREDICTOR "
   ]
  },
  {
   "attachments": {},
   "cell_type": "markdown",
   "metadata": {},
   "source": [
    "You will analyze a dataset of the global average sea level change since 1880. You will use the data to predict the sea level change through year 2050.\n",
    "\n",
    "Use the data to complete the following tasks:\n",
    "\n",
    "- Use Pandas to import the data from epa-sea-level.csv. **OKAY**\n",
    "- Use matplotlib to create a scatter plot using the Year column as the x-axis and the CSIRO Adjusted Sea Level column as the y-axis. **OKAY**\n",
    "- Use the linregress function from scipy.stats to get the slope and y-intercept of the line of best fit. Plot the line of best fit over the top of the scatter plot. Make the line go through the year 2050 to predict the sea level rise in 2050.\n",
    "- Plot a new line of best fit just using the data from year 2000 through the most recent year in the dataset. Make the line also go through - the year 2050 to predict the sea level rise in 2050 if the rate of rise continues as it has since the year 2000.\n",
    "- The x label should be Year, the y label should be Sea Level (inches), and the title should be Rise in Sea Level.\n"
   ]
  },
  {
   "cell_type": "markdown",
   "metadata": {},
   "source": []
  },
  {
   "cell_type": "code",
   "execution_count": 2,
   "id": "aa76be69",
   "metadata": {},
   "outputs": [],
   "source": [
    "import pandas as pd\n",
    "import numpy as np\n",
    "import matplotlib.pyplot as plt\n",
    "import seaborn as sns\n",
    "from scipy import stats"
   ]
  },
  {
   "cell_type": "code",
   "execution_count": 5,
   "metadata": {},
   "outputs": [
    {
     "name": "stdout",
     "output_type": "stream",
     "text": [
      "Help on function linregress in module scipy.stats._stats_mstats_common:\n",
      "\n",
      "linregress(x, y=None, alternative='two-sided')\n",
      "    Calculate a linear least-squares regression for two sets of measurements.\n",
      "    \n",
      "    Parameters\n",
      "    ----------\n",
      "    x, y : array_like\n",
      "        Two sets of measurements.  Both arrays should have the same length.  If\n",
      "        only `x` is given (and ``y=None``), then it must be a two-dimensional\n",
      "        array where one dimension has length 2.  The two sets of measurements\n",
      "        are then found by splitting the array along the length-2 dimension. In\n",
      "        the case where ``y=None`` and `x` is a 2x2 array, ``linregress(x)`` is\n",
      "        equivalent to ``linregress(x[0], x[1])``.\n",
      "    alternative : {'two-sided', 'less', 'greater'}, optional\n",
      "        Defines the alternative hypothesis. Default is 'two-sided'.\n",
      "        The following options are available:\n",
      "    \n",
      "        * 'two-sided': the slope of the regression line is nonzero\n",
      "        * 'less': the slope of the regression line is less than zero\n",
      "        * 'greater':  the slope of the regression line is greater than zero\n",
      "    \n",
      "        .. versionadded:: 1.7.0\n",
      "    \n",
      "    Returns\n",
      "    -------\n",
      "    result : ``LinregressResult`` instance\n",
      "        The return value is an object with the following attributes:\n",
      "    \n",
      "        slope : float\n",
      "            Slope of the regression line.\n",
      "        intercept : float\n",
      "            Intercept of the regression line.\n",
      "        rvalue : float\n",
      "            The Pearson correlation coefficient. The square of ``rvalue``\n",
      "            is equal to the coefficient of determination.\n",
      "        pvalue : float\n",
      "            The p-value for a hypothesis test whose null hypothesis is\n",
      "            that the slope is zero, using Wald Test with t-distribution of\n",
      "            the test statistic. See `alternative` above for alternative\n",
      "            hypotheses.\n",
      "        stderr : float\n",
      "            Standard error of the estimated slope (gradient), under the\n",
      "            assumption of residual normality.\n",
      "        intercept_stderr : float\n",
      "            Standard error of the estimated intercept, under the assumption\n",
      "            of residual normality.\n",
      "    \n",
      "    See Also\n",
      "    --------\n",
      "    scipy.optimize.curve_fit :\n",
      "        Use non-linear least squares to fit a function to data.\n",
      "    scipy.optimize.leastsq :\n",
      "        Minimize the sum of squares of a set of equations.\n",
      "    \n",
      "    Notes\n",
      "    -----\n",
      "    Missing values are considered pair-wise: if a value is missing in `x`,\n",
      "    the corresponding value in `y` is masked.\n",
      "    \n",
      "    For compatibility with older versions of SciPy, the return value acts\n",
      "    like a ``namedtuple`` of length 5, with fields ``slope``, ``intercept``,\n",
      "    ``rvalue``, ``pvalue`` and ``stderr``, so one can continue to write::\n",
      "    \n",
      "        slope, intercept, r, p, se = linregress(x, y)\n",
      "    \n",
      "    With that style, however, the standard error of the intercept is not\n",
      "    available.  To have access to all the computed values, including the\n",
      "    standard error of the intercept, use the return value as an object\n",
      "    with attributes, e.g.::\n",
      "    \n",
      "        result = linregress(x, y)\n",
      "        print(result.intercept, result.intercept_stderr)\n",
      "    \n",
      "    Examples\n",
      "    --------\n",
      "    >>> import matplotlib.pyplot as plt\n",
      "    >>> from scipy import stats\n",
      "    >>> rng = np.random.default_rng()\n",
      "    \n",
      "    Generate some data:\n",
      "    \n",
      "    >>> x = rng.random(10)\n",
      "    >>> y = 1.6*x + rng.random(10)\n",
      "    \n",
      "    Perform the linear regression:\n",
      "    \n",
      "    >>> res = stats.linregress(x, y)\n",
      "    \n",
      "    Coefficient of determination (R-squared):\n",
      "    \n",
      "    >>> print(f\"R-squared: {res.rvalue**2:.6f}\")\n",
      "    R-squared: 0.717533\n",
      "    \n",
      "    Plot the data along with the fitted line:\n",
      "    \n",
      "    >>> plt.plot(x, y, 'o', label='original data')\n",
      "    >>> plt.plot(x, res.intercept + res.slope*x, 'r', label='fitted line')\n",
      "    >>> plt.legend()\n",
      "    >>> plt.show()\n",
      "    \n",
      "    Calculate 95% confidence interval on slope and intercept:\n",
      "    \n",
      "    >>> # Two-sided inverse Students t-distribution\n",
      "    >>> # p - probability, df - degrees of freedom\n",
      "    >>> from scipy.stats import t\n",
      "    >>> tinv = lambda p, df: abs(t.ppf(p/2, df))\n",
      "    \n",
      "    >>> ts = tinv(0.05, len(x)-2)\n",
      "    >>> print(f\"slope (95%): {res.slope:.6f} +/- {ts*res.stderr:.6f}\")\n",
      "    slope (95%): 1.453392 +/- 0.743465\n",
      "    >>> print(f\"intercept (95%): {res.intercept:.6f}\"\n",
      "    ...       f\" +/- {ts*res.intercept_stderr:.6f}\")\n",
      "    intercept (95%): 0.616950 +/- 0.544475\n",
      "\n"
     ]
    }
   ],
   "source": [
    "help(stats.linregress)"
   ]
  },
  {
   "cell_type": "code",
   "execution_count": 6,
   "id": "aa76be69",
   "metadata": {},
   "outputs": [],
   "source": [
    "df = pd.read_csv(\"epa-sea-level.csv\")"
   ]
  },
  {
   "attachments": {},
   "cell_type": "markdown",
   "metadata": {},
   "source": [
    "Use the linregress function from scipy.stats to get the slope and y-intercept of the line of best fit.\n",
    "\n",
    "Plot the line of best fit over the top of the scatter plot. Make the line go through the year 2050 to predict the sea level rise in 2050."
   ]
  },
  {
   "cell_type": "code",
   "execution_count": 17,
   "metadata": {},
   "outputs": [],
   "source": [
    "regressionline = stats.linregress(df[\"Year\"], df[\"CSIRO Adjusted Sea Level\"])"
   ]
  },
  {
   "cell_type": "code",
   "execution_count": 18,
   "metadata": {},
   "outputs": [
    {
     "name": "stdout",
     "output_type": "stream",
     "text": [
      "LinregressResult(slope=0.0630445840121348, intercept=-119.06594196773978, rvalue=0.984757131182585, pvalue=3.7886969791131554e-102, stderr=0.000969211871328715, intercept_stderr=1.8869433812425225)\n"
     ]
    },
    {
     "data": {
      "text/plain": [
       "<AxesSubplot: title={'center': 'Rise in Sea Level'}, xlabel='Year', ylabel='CSIRO Adjusted Sea Level'>"
      ]
     },
     "execution_count": 18,
     "metadata": {},
     "output_type": "execute_result"
    }
   ],
   "source": [
    "print(regressionline)\n",
    "slope = regressionline.slope\n",
    "y_intercept = regressionline.intercept\n",
    "regressionline.rvalue\n",
    "regressionline.pvalue\n",
    "regressionline.stderr\n",
    "regressionline.intercept_stderr"
   ]
  },
  {
   "cell_type": "code",
   "execution_count": 43,
   "metadata": {},
   "outputs": [
    {
     "data": {
      "image/png": "[encoded data removed]",
      "text/plain": [
       "<Figure size 640x480 with 1 Axes>"
      ]
     },
     "metadata": {},
     "output_type": "display_data"
    }
   ],
   "source": [
    "# SCATTER PLOT\n",
    "fig1, ax1 = plt.subplots(1)\n",
    "ax1.plot(df[\"Year\"], df[\"CSIRO Adjusted Sea Level\"], \"b.\")  # Normal scatter plot\n",
    "\n",
    "sns.regplot(\n",
    "    x=df[\"Year\"],\n",
    "    y=df[\"CSIRO Adjusted Sea Level\"],\n",
    "    marker=\".\",\n",
    "    color=\"r\",\n",
    "    ax=ax1,\n",
    "    scatter=False,\n",
    "    truncate=False,\n",
    ")\n",
    "# Scatter plot + Regression line\n",
    "ax1.set_title(\"Rise in Sea Level\")\n",
    "ax1.set_xlabel(\"Year\")\n",
    "ax1.set_ylabel(\"Sea Level (inches)\")\n",
    "ax1.set_xticks(\n",
    "    [\n",
    "        int(i)\n",
    "        for i in [\n",
    "            1850.0,\n",
    "            1875.0,\n",
    "            1900.0,\n",
    "            1925.0,\n",
    "            1950.0,\n",
    "            1975.0,\n",
    "            2000.0,\n",
    "            2025.0,\n",
    "            2050.0,\n",
    "            2075.0,\n",
    "        ]\n",
    "    ]\n",
    ")\n",
    "ax1.set_xticklabels(\n",
    "    [\n",
    "        int(i)\n",
    "        for i in [\n",
    "            1850.0,\n",
    "            1875.0,\n",
    "            1900.0,\n",
    "            1925.0,\n",
    "            1950.0,\n",
    "            1975.0,\n",
    "            2000.0,\n",
    "            2025.0,\n",
    "            2050.0,\n",
    "            2075.0,\n",
    "        ]\n",
    "    ]\n",
    ");"
   ]
  },
  {
   "attachments": {},
   "cell_type": "markdown",
   "metadata": {},
   "source": [
    "Now I'm gonna extend the regression line up to the year 2050."
   ]
  },
  {
   "cell_type": "code",
   "execution_count": 45,
   "metadata": {},
   "outputs": [],
   "source": [
    "# y = slope * x + y_intercept\n",
    "\n",
    "A = [\n",
    "    7.06107985777146,\n",
    "    7.227507131103323,\n",
    "    7.393934404435242,\n",
    "    7.560361677767105,\n",
    "    7.726788951098968,\n",
    "    7.89321622443083,\n",
    "    8.059643497762693,\n",
    "    8.226070771094555,\n",
    "    8.392498044426418,\n",
    "    8.55892531775828,\n",
    "    8.725352591090143,\n",
    "    8.891779864422006,\n",
    "    9.058207137753925,\n",
    "    9.224634411085788,\n",
    "    9.39106168441765,\n",
    "    9.557488957749513,\n",
    "    9.723916231081375,\n",
    "    9.890343504413238,\n",
    "    10.0567707777451,\n",
    "    10.223198051076963,\n",
    "    10.389625324408826,\n",
    "    10.556052597740688,\n",
    "    10.72247987107255,\n",
    "    10.88890714440447,\n",
    "    11.055334417736333,\n",
    "    11.221761691068195,\n",
    "    11.388188964400058,\n",
    "    11.55461623773192,\n",
    "    11.721043511063783,\n",
    "    11.887470784395646,\n",
    "    12.053898057727508,\n",
    "    12.220325331059371,\n",
    "    12.386752604391233,\n",
    "    12.553179877723153,\n",
    "    12.719607151055015,\n",
    "    12.886034424386878,\n",
    "    13.05246169771874,\n",
    "    13.218888971050603,\n",
    "    13.385316244382466,\n",
    "    13.551743517714328,\n",
    "    13.718170791046191,\n",
    "    13.884598064378054,\n",
    "    14.051025337709916,\n",
    "    14.217452611041836,\n",
    "    14.383879884373698,\n",
    "    14.55030715770556,\n",
    "    14.716734431037423,\n",
    "    14.883161704369286,\n",
    "    15.049588977701148,\n",
    "    15.216016251033011,\n",
    "    15.382443524364874,\n",
    "]"
   ]
  },
  {
   "cell_type": "code",
   "execution_count": 48,
   "metadata": {},
   "outputs": [
    {
     "data": {
      "text/html": [
       "<div>\n",
       "<style scoped>\n",
       "    .dataframe tbody tr th:only-of-type {\n",
       "        vertical-align: middle;\n",
       "    }\n",
       "\n",
       "    .dataframe tbody tr th {\n",
       "        vertical-align: top;\n",
       "    }\n",
       "\n",
       "    .dataframe thead th {\n",
       "        text-align: right;\n",
       "    }\n",
       "</style>\n",
       "<table border=\"1\" class=\"dataframe\">\n",
       "  <thead>\n",
       "    <tr style=\"text-align: right;\">\n",
       "      <th></th>\n",
       "      <th>Year</th>\n",
       "      <th>CSIRO Adjusted Sea Level</th>\n",
       "      <th>Lower Error Bound</th>\n",
       "      <th>Upper Error Bound</th>\n",
       "      <th>NOAA Adjusted Sea Level</th>\n",
       "    </tr>\n",
       "  </thead>\n",
       "  <tbody>\n",
       "    <tr>\n",
       "      <th>129</th>\n",
       "      <td>2009</td>\n",
       "      <td>8.586614</td>\n",
       "      <td>8.311024</td>\n",
       "      <td>8.862205</td>\n",
       "      <td>8.046354</td>\n",
       "    </tr>\n",
       "    <tr>\n",
       "      <th>130</th>\n",
       "      <td>2010</td>\n",
       "      <td>8.901575</td>\n",
       "      <td>8.618110</td>\n",
       "      <td>9.185039</td>\n",
       "      <td>8.122973</td>\n",
       "    </tr>\n",
       "    <tr>\n",
       "      <th>131</th>\n",
       "      <td>2011</td>\n",
       "      <td>8.964567</td>\n",
       "      <td>8.661417</td>\n",
       "      <td>9.267717</td>\n",
       "      <td>8.053065</td>\n",
       "    </tr>\n",
       "    <tr>\n",
       "      <th>132</th>\n",
       "      <td>2012</td>\n",
       "      <td>9.326772</td>\n",
       "      <td>8.992126</td>\n",
       "      <td>9.661417</td>\n",
       "      <td>8.457058</td>\n",
       "    </tr>\n",
       "    <tr>\n",
       "      <th>133</th>\n",
       "      <td>2013</td>\n",
       "      <td>8.980315</td>\n",
       "      <td>8.622047</td>\n",
       "      <td>9.338583</td>\n",
       "      <td>8.546648</td>\n",
       "    </tr>\n",
       "  </tbody>\n",
       "</table>\n",
       "</div>"
      ],
      "text/plain": [
       "     Year  CSIRO Adjusted Sea Level  Lower Error Bound  Upper Error Bound  \\\n",
       "129  2009                  8.586614           8.311024           8.862205   \n",
       "130  2010                  8.901575           8.618110           9.185039   \n",
       "131  2011                  8.964567           8.661417           9.267717   \n",
       "132  2012                  9.326772           8.992126           9.661417   \n",
       "133  2013                  8.980315           8.622047           9.338583   \n",
       "\n",
       "     NOAA Adjusted Sea Level  \n",
       "129                 8.046354  \n",
       "130                 8.122973  \n",
       "131                 8.053065  \n",
       "132                 8.457058  \n",
       "133                 8.546648  "
      ]
     },
     "execution_count": 48,
     "metadata": {},
     "output_type": "execute_result"
    }
   ],
   "source": [
    "len(A)\n",
    "df.tail()"
   ]
  },
  {
   "cell_type": "code",
   "execution_count": null,
   "metadata": {},
   "outputs": [],
   "source": []
  }
 ],
 "metadata": {
  "kernelspec": {
   "display_name": "reactord",
   "language": "python",
   "name": "python3"
  },
  "language_info": {
   "codemirror_mode": {
    "name": "ipython",
    "version": 3
   },
   "file_extension": ".py",
   "mimetype": "text/x-python",
   "name": "python",
   "nbconvert_exporter": "python",
   "pygments_lexer": "ipython3",
   "version": "3.10.6 (main, Nov 14 2022, 16:10:14) [GCC 11.3.0]"
  },
  "orig_nbformat": 4,
  "vscode": {
   "interpreter": {
    "hash": "0da960acde017608603fcb155815528bc626e42a5841520214e4e02be5770591"
   }
  }
 },
 "nbformat": 4,
 "nbformat_minor": 2
}
