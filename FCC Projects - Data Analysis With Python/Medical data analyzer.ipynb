{
 "cells": [
  {
   "cell_type": "code",
   "execution_count": 1,
   "id": "a8a2ab28-78c0-4901-9abc-c350c320b46e",
   "metadata": {},
   "outputs": [],
   "source": [
    "import numpy as np\n",
    "import pandas as pd\n",
    "import matplotlib.pyplot as plt\n",
    "import seaborn as sns\n",
    "import copy\n"
   ]
  },
  {
   "cell_type": "code",
   "execution_count": 2,
   "id": "d2e4f73d-4c24-40b6-9aa2-029071804efc",
   "metadata": {},
   "outputs": [],
   "source": [
    "df= pd.read_csv('medical_examination.csv')"
   ]
  },
  {
   "attachments": {},
   "cell_type": "markdown",
   "id": "ae2fcc65-bcb0-40be-ad48-422b0bc28b2e",
   "metadata": {},
   "source": [
    "Create a chart similar to examples/Figure_1.png, where we show the counts of good and bad outcomes for the cholesterol, gluc, alco, active, and smoke variables for patients with cardio=1 and cardio=0 in different panels.\n",
    "\n",
    "Use the data to complete the following tasks in medical_data_visualizer.py:\n",
    "\n",
    "Add an overweight column to the data. To determine if a person is overweight, first calculate their BMI by dividing their weight in kilograms by the square of their height in meters. If that value is > 25 then the person is overweight. Use the value 0 for NOT overweight and the value 1 for overweight.\n",
    "Normalize the data by making 0 always good and 1 always bad. If the value of cholesterol or gluc is 1, make the value 0. If the value is more than 1, make the value 1.\n",
    "\n",
    "**Convert the data into long format and create a chart that shows the value counts of the categorical features using seaborn's catplot(). The dataset should be split by 'Cardio' so there is one chart for each cardio value. The chart should look like examples/Figure_1.png.**\n",
    "Clean the data. Filter out the following patient segments that represent incorrect data:\n",
    "diastolic pressure is higher than systolic (Keep the correct data with (df['ap_lo'] <= df['ap_hi']))\n",
    "height is less than the 2.5th percentile (Keep the correct data with (df['height'] >= df['height'].quantile(0.025)))\n",
    "height is more than the 97.5th percentile\n",
    "weight is less than the 2.5th percentile\n",
    "weight is more than the 97.5th percentile\n",
    "\n",
    "Create a correlation matrix using the dataset. Plot the correlation matrix using seaborn's heatmap(). Mask the upper triangle. The chart should look like examples/Figure_2.png."
   ]
  },
  {
   "cell_type": "markdown",
   "id": "9efe523b-de55-4a48-86b6-20cfc6e71691",
   "metadata": {},
   "source": [
    "**Agrego la columna \"sobrepeso\"** OKAY"
   ]
  },
  {
   "cell_type": "code",
   "execution_count": 26,
   "id": "5261196d-e0cd-49be-b1d1-c169c846e0e1",
   "metadata": {},
   "outputs": [
    {
     "name": "stdout",
     "output_type": "stream",
     "text": [
      "<class 'pandas.core.frame.DataFrame'>\n",
      "RangeIndex: 70000 entries, 0 to 69999\n",
      "Data columns (total 14 columns):\n",
      " #   Column       Non-Null Count  Dtype  \n",
      "---  ------       --------------  -----  \n",
      " 0   id           70000 non-null  int64  \n",
      " 1   age          70000 non-null  int64  \n",
      " 2   sex          70000 non-null  int64  \n",
      " 3   height       70000 non-null  int64  \n",
      " 4   weight       70000 non-null  float64\n",
      " 5   ap_hi        70000 non-null  int64  \n",
      " 6   ap_lo        70000 non-null  int64  \n",
      " 7   cholesterol  70000 non-null  int64  \n",
      " 8   gluc         70000 non-null  int64  \n",
      " 9   smoke        70000 non-null  int64  \n",
      " 10  alco         70000 non-null  int64  \n",
      " 11  active       70000 non-null  int64  \n",
      " 12  cardio       70000 non-null  int64  \n",
      " 13  overweight   70000 non-null  int32  \n",
      "dtypes: float64(1), int32(1), int64(12)\n",
      "memory usage: 7.2 MB\n"
     ]
    }
   ],
   "source": [
    "BMI =  df.weight / (df.height/100)**2\n",
    "\n",
    "overweight = BMI>25\n",
    "overweight[overweight == True ] = 1\n",
    "overweight[overweight == False ] = 0\n",
    "\n",
    "# Hasta la sentencia anterior, la variable overweight era de tipo OBJECT (?). Por lo tanto, la convertí\n",
    "# a enteros!!!\n",
    "\n",
    "overweight = np.asarray(overweight, dtype=int)\n",
    "\n",
    "df['overweight'] = overweight\n",
    "\n",
    "df.info()"
   ]
  },
  {
   "cell_type": "markdown",
   "id": "36daff5d-8e4c-492f-9e8d-4fa93bb4425d",
   "metadata": {},
   "source": [
    "**Normalize the data by making 0 always good and 1 always bad. If the value of cholesterol or gluc is 1, make the value 0. If the value is more than 1, make the value 1.** OKAY (In dataframe dfB, ver mas abajo)"
   ]
  },
  {
   "cell_type": "code",
   "execution_count": 27,
   "id": "0b0cac01-7ec9-4334-bf56-296924ff9882",
   "metadata": {},
   "outputs": [
    {
     "data": {
      "text/html": [
       "<div>\n",
       "<style scoped>\n",
       "    .dataframe tbody tr th:only-of-type {\n",
       "        vertical-align: middle;\n",
       "    }\n",
       "\n",
       "    .dataframe tbody tr th {\n",
       "        vertical-align: top;\n",
       "    }\n",
       "\n",
       "    .dataframe thead th {\n",
       "        text-align: right;\n",
       "    }\n",
       "</style>\n",
       "<table border=\"1\" class=\"dataframe\">\n",
       "  <thead>\n",
       "    <tr style=\"text-align: right;\">\n",
       "      <th></th>\n",
       "      <th>id</th>\n",
       "      <th>age</th>\n",
       "      <th>sex</th>\n",
       "      <th>height</th>\n",
       "      <th>weight</th>\n",
       "      <th>ap_hi</th>\n",
       "      <th>ap_lo</th>\n",
       "      <th>cholesterol</th>\n",
       "      <th>gluc</th>\n",
       "      <th>smoke</th>\n",
       "      <th>alco</th>\n",
       "      <th>active</th>\n",
       "      <th>cardio</th>\n",
       "      <th>overweight</th>\n",
       "    </tr>\n",
       "  </thead>\n",
       "  <tbody>\n",
       "    <tr>\n",
       "      <th>0</th>\n",
       "      <td>0</td>\n",
       "      <td>18393</td>\n",
       "      <td>2</td>\n",
       "      <td>168</td>\n",
       "      <td>62.0</td>\n",
       "      <td>110</td>\n",
       "      <td>80</td>\n",
       "      <td>1</td>\n",
       "      <td>1</td>\n",
       "      <td>0</td>\n",
       "      <td>0</td>\n",
       "      <td>1</td>\n",
       "      <td>0</td>\n",
       "      <td>0</td>\n",
       "    </tr>\n",
       "    <tr>\n",
       "      <th>1</th>\n",
       "      <td>1</td>\n",
       "      <td>20228</td>\n",
       "      <td>1</td>\n",
       "      <td>156</td>\n",
       "      <td>85.0</td>\n",
       "      <td>140</td>\n",
       "      <td>90</td>\n",
       "      <td>3</td>\n",
       "      <td>1</td>\n",
       "      <td>0</td>\n",
       "      <td>0</td>\n",
       "      <td>1</td>\n",
       "      <td>1</td>\n",
       "      <td>1</td>\n",
       "    </tr>\n",
       "    <tr>\n",
       "      <th>2</th>\n",
       "      <td>2</td>\n",
       "      <td>18857</td>\n",
       "      <td>1</td>\n",
       "      <td>165</td>\n",
       "      <td>64.0</td>\n",
       "      <td>130</td>\n",
       "      <td>70</td>\n",
       "      <td>3</td>\n",
       "      <td>1</td>\n",
       "      <td>0</td>\n",
       "      <td>0</td>\n",
       "      <td>0</td>\n",
       "      <td>1</td>\n",
       "      <td>0</td>\n",
       "    </tr>\n",
       "    <tr>\n",
       "      <th>3</th>\n",
       "      <td>3</td>\n",
       "      <td>17623</td>\n",
       "      <td>2</td>\n",
       "      <td>169</td>\n",
       "      <td>82.0</td>\n",
       "      <td>150</td>\n",
       "      <td>100</td>\n",
       "      <td>1</td>\n",
       "      <td>1</td>\n",
       "      <td>0</td>\n",
       "      <td>0</td>\n",
       "      <td>1</td>\n",
       "      <td>1</td>\n",
       "      <td>1</td>\n",
       "    </tr>\n",
       "    <tr>\n",
       "      <th>4</th>\n",
       "      <td>4</td>\n",
       "      <td>17474</td>\n",
       "      <td>1</td>\n",
       "      <td>156</td>\n",
       "      <td>56.0</td>\n",
       "      <td>100</td>\n",
       "      <td>60</td>\n",
       "      <td>1</td>\n",
       "      <td>1</td>\n",
       "      <td>0</td>\n",
       "      <td>0</td>\n",
       "      <td>0</td>\n",
       "      <td>0</td>\n",
       "      <td>0</td>\n",
       "    </tr>\n",
       "  </tbody>\n",
       "</table>\n",
       "</div>"
      ],
      "text/plain": [
       "   id    age  sex  height  weight  ap_hi  ap_lo  cholesterol  gluc  smoke  \\\n",
       "0   0  18393    2     168    62.0    110     80            1     1      0   \n",
       "1   1  20228    1     156    85.0    140     90            3     1      0   \n",
       "2   2  18857    1     165    64.0    130     70            3     1      0   \n",
       "3   3  17623    2     169    82.0    150    100            1     1      0   \n",
       "4   4  17474    1     156    56.0    100     60            1     1      0   \n",
       "\n",
       "   alco  active  cardio  overweight  \n",
       "0     0       1       0           0  \n",
       "1     0       1       1           1  \n",
       "2     0       0       1           0  \n",
       "3     0       1       1           1  \n",
       "4     0       0       0           0  "
      ]
     },
     "execution_count": 27,
     "metadata": {},
     "output_type": "execute_result"
    }
   ],
   "source": [
    "df.head(5)"
   ]
  },
  {
   "cell_type": "code",
   "execution_count": 28,
   "id": "025ce7d0-7f6d-4e26-88ed-e91c9ef1b56a",
   "metadata": {},
   "outputs": [
    {
     "data": {
      "text/html": [
       "<div>\n",
       "<style scoped>\n",
       "    .dataframe tbody tr th:only-of-type {\n",
       "        vertical-align: middle;\n",
       "    }\n",
       "\n",
       "    .dataframe tbody tr th {\n",
       "        vertical-align: top;\n",
       "    }\n",
       "\n",
       "    .dataframe thead th {\n",
       "        text-align: right;\n",
       "    }\n",
       "</style>\n",
       "<table border=\"1\" class=\"dataframe\">\n",
       "  <thead>\n",
       "    <tr style=\"text-align: right;\">\n",
       "      <th></th>\n",
       "      <th>id</th>\n",
       "      <th>age</th>\n",
       "      <th>sex</th>\n",
       "      <th>height</th>\n",
       "      <th>weight</th>\n",
       "      <th>ap_hi</th>\n",
       "      <th>ap_lo</th>\n",
       "      <th>cholesterol</th>\n",
       "      <th>gluc</th>\n",
       "      <th>smoke</th>\n",
       "      <th>alco</th>\n",
       "      <th>active</th>\n",
       "      <th>cardio</th>\n",
       "      <th>overweight</th>\n",
       "    </tr>\n",
       "  </thead>\n",
       "  <tbody>\n",
       "    <tr>\n",
       "      <th>0</th>\n",
       "      <td>0</td>\n",
       "      <td>18393</td>\n",
       "      <td>2</td>\n",
       "      <td>168</td>\n",
       "      <td>62.0</td>\n",
       "      <td>110</td>\n",
       "      <td>80</td>\n",
       "      <td>0</td>\n",
       "      <td>0</td>\n",
       "      <td>0</td>\n",
       "      <td>0</td>\n",
       "      <td>1</td>\n",
       "      <td>0</td>\n",
       "      <td>0</td>\n",
       "    </tr>\n",
       "    <tr>\n",
       "      <th>1</th>\n",
       "      <td>1</td>\n",
       "      <td>20228</td>\n",
       "      <td>1</td>\n",
       "      <td>156</td>\n",
       "      <td>85.0</td>\n",
       "      <td>140</td>\n",
       "      <td>90</td>\n",
       "      <td>1</td>\n",
       "      <td>0</td>\n",
       "      <td>0</td>\n",
       "      <td>0</td>\n",
       "      <td>1</td>\n",
       "      <td>1</td>\n",
       "      <td>1</td>\n",
       "    </tr>\n",
       "    <tr>\n",
       "      <th>2</th>\n",
       "      <td>2</td>\n",
       "      <td>18857</td>\n",
       "      <td>1</td>\n",
       "      <td>165</td>\n",
       "      <td>64.0</td>\n",
       "      <td>130</td>\n",
       "      <td>70</td>\n",
       "      <td>1</td>\n",
       "      <td>0</td>\n",
       "      <td>0</td>\n",
       "      <td>0</td>\n",
       "      <td>0</td>\n",
       "      <td>1</td>\n",
       "      <td>0</td>\n",
       "    </tr>\n",
       "    <tr>\n",
       "      <th>3</th>\n",
       "      <td>3</td>\n",
       "      <td>17623</td>\n",
       "      <td>2</td>\n",
       "      <td>169</td>\n",
       "      <td>82.0</td>\n",
       "      <td>150</td>\n",
       "      <td>100</td>\n",
       "      <td>0</td>\n",
       "      <td>0</td>\n",
       "      <td>0</td>\n",
       "      <td>0</td>\n",
       "      <td>1</td>\n",
       "      <td>1</td>\n",
       "      <td>1</td>\n",
       "    </tr>\n",
       "    <tr>\n",
       "      <th>4</th>\n",
       "      <td>4</td>\n",
       "      <td>17474</td>\n",
       "      <td>1</td>\n",
       "      <td>156</td>\n",
       "      <td>56.0</td>\n",
       "      <td>100</td>\n",
       "      <td>60</td>\n",
       "      <td>0</td>\n",
       "      <td>0</td>\n",
       "      <td>0</td>\n",
       "      <td>0</td>\n",
       "      <td>0</td>\n",
       "      <td>0</td>\n",
       "      <td>0</td>\n",
       "    </tr>\n",
       "    <tr>\n",
       "      <th>5</th>\n",
       "      <td>8</td>\n",
       "      <td>21914</td>\n",
       "      <td>1</td>\n",
       "      <td>151</td>\n",
       "      <td>67.0</td>\n",
       "      <td>120</td>\n",
       "      <td>80</td>\n",
       "      <td>1</td>\n",
       "      <td>1</td>\n",
       "      <td>0</td>\n",
       "      <td>0</td>\n",
       "      <td>0</td>\n",
       "      <td>0</td>\n",
       "      <td>1</td>\n",
       "    </tr>\n",
       "    <tr>\n",
       "      <th>6</th>\n",
       "      <td>9</td>\n",
       "      <td>22113</td>\n",
       "      <td>1</td>\n",
       "      <td>157</td>\n",
       "      <td>93.0</td>\n",
       "      <td>130</td>\n",
       "      <td>80</td>\n",
       "      <td>1</td>\n",
       "      <td>0</td>\n",
       "      <td>0</td>\n",
       "      <td>0</td>\n",
       "      <td>1</td>\n",
       "      <td>0</td>\n",
       "      <td>1</td>\n",
       "    </tr>\n",
       "    <tr>\n",
       "      <th>7</th>\n",
       "      <td>12</td>\n",
       "      <td>22584</td>\n",
       "      <td>2</td>\n",
       "      <td>178</td>\n",
       "      <td>95.0</td>\n",
       "      <td>130</td>\n",
       "      <td>90</td>\n",
       "      <td>1</td>\n",
       "      <td>1</td>\n",
       "      <td>0</td>\n",
       "      <td>0</td>\n",
       "      <td>1</td>\n",
       "      <td>1</td>\n",
       "      <td>1</td>\n",
       "    </tr>\n",
       "    <tr>\n",
       "      <th>8</th>\n",
       "      <td>13</td>\n",
       "      <td>17668</td>\n",
       "      <td>1</td>\n",
       "      <td>158</td>\n",
       "      <td>71.0</td>\n",
       "      <td>110</td>\n",
       "      <td>70</td>\n",
       "      <td>0</td>\n",
       "      <td>0</td>\n",
       "      <td>0</td>\n",
       "      <td>0</td>\n",
       "      <td>1</td>\n",
       "      <td>0</td>\n",
       "      <td>1</td>\n",
       "    </tr>\n",
       "    <tr>\n",
       "      <th>9</th>\n",
       "      <td>14</td>\n",
       "      <td>19834</td>\n",
       "      <td>1</td>\n",
       "      <td>164</td>\n",
       "      <td>68.0</td>\n",
       "      <td>110</td>\n",
       "      <td>60</td>\n",
       "      <td>0</td>\n",
       "      <td>0</td>\n",
       "      <td>0</td>\n",
       "      <td>0</td>\n",
       "      <td>0</td>\n",
       "      <td>0</td>\n",
       "      <td>1</td>\n",
       "    </tr>\n",
       "  </tbody>\n",
       "</table>\n",
       "</div>"
      ],
      "text/plain": [
       "   id    age  sex  height  weight  ap_hi  ap_lo  cholesterol  gluc  smoke  \\\n",
       "0   0  18393    2     168    62.0    110     80            0     0      0   \n",
       "1   1  20228    1     156    85.0    140     90            1     0      0   \n",
       "2   2  18857    1     165    64.0    130     70            1     0      0   \n",
       "3   3  17623    2     169    82.0    150    100            0     0      0   \n",
       "4   4  17474    1     156    56.0    100     60            0     0      0   \n",
       "5   8  21914    1     151    67.0    120     80            1     1      0   \n",
       "6   9  22113    1     157    93.0    130     80            1     0      0   \n",
       "7  12  22584    2     178    95.0    130     90            1     1      0   \n",
       "8  13  17668    1     158    71.0    110     70            0     0      0   \n",
       "9  14  19834    1     164    68.0    110     60            0     0      0   \n",
       "\n",
       "   alco  active  cardio  overweight  \n",
       "0     0       1       0           0  \n",
       "1     0       1       1           1  \n",
       "2     0       0       1           0  \n",
       "3     0       1       1           1  \n",
       "4     0       0       0           0  \n",
       "5     0       0       0           1  \n",
       "6     0       1       0           1  \n",
       "7     0       1       1           1  \n",
       "8     0       1       0           1  \n",
       "9     0       0       0           1  "
      ]
     },
     "execution_count": 28,
     "metadata": {},
     "output_type": "execute_result"
    }
   ],
   "source": [
    "# OJO QUE TODO ESTO NO ESTÁ CREANDO UNA COPIA DE LA COLUMNA 'GLUC'. SE ESTA REFIRIENDO AL MISMO OBJETO\n",
    "# POR LO CUAL ESTÁ MODIFICANDO DIRECTAMENTE EL DATA FRAME!!! OJOOOO\n",
    "\n",
    "# A=pd.Series(df['gluc'])\n",
    "# print(A, type(A))\n",
    "# A[A==1] = 0\n",
    "\n",
    "#LA FORMA CORRECTA DE HACER UNA COPIA ES LA SIGUIENTE\n",
    "\n",
    "#To avoid overwriting I make a copy of the DATA FRAME\n",
    "dfB=copy.deepcopy(df)\n",
    "\n",
    "gluc=copy.deepcopy(df['gluc'])\n",
    "#gluc is df['gluc']\n",
    "\n",
    "#Now I modify the values of 'gluc' previous to add them to de dataframe dfB\n",
    "gluc[gluc==1]= 0\n",
    "gluc[gluc>1] = 1\n",
    "dfB['gluc']=gluc\n",
    "\n",
    "#I follow the same logic for column CHOLESTEROL\n",
    "chol= copy.deepcopy(df['cholesterol'])\n",
    "chol[chol==1] =0\n",
    "chol[chol>1] = 1\n",
    "dfB['cholesterol'] = chol\n",
    "\n",
    "dfB.head(10)"
   ]
  },
  {
   "cell_type": "code",
   "execution_count": 29,
   "id": "a3e999c0-6b6d-476b-8576-b84d6e8f570e",
   "metadata": {},
   "outputs": [
    {
     "data": {
      "text/plain": [
       "0        True\n",
       "1        True\n",
       "2        True\n",
       "3        True\n",
       "4        True\n",
       "         ... \n",
       "69995    True\n",
       "69996    True\n",
       "69997    True\n",
       "69998    True\n",
       "69999    True\n",
       "Name: cholesterol, Length: 70000, dtype: bool"
      ]
     },
     "execution_count": 29,
     "metadata": {},
     "output_type": "execute_result"
    }
   ],
   "source": [
    "dfB['gluc'] != df['gluc'] #Asi verifico que los valores fueron efectivamente cambiados\n",
    "dfB['cholesterol'] != df['cholesterol']"
   ]
  },
  {
   "cell_type": "markdown",
   "id": "717474eb-e832-41a7-ab8e-2774ee8551fd",
   "metadata": {},
   "source": [
    "Ahora tengo el dataframe dfB, el cual ha sido modificado. Se agregó la columna overweight\n",
    "y se normalizaron las variables categoricas gluc y cholesterol\n",
    "\n",
    "**Lo siguiente es convertir la tabla de un wide format a un long format** \n",
    "Lo cual se hace utilizando el metodo **pd.melt**. Esto genera un data frame mas estirado, por decirlo de alguna manera"
   ]
  },
  {
   "cell_type": "code",
   "execution_count": 30,
   "id": "320e999e-58a5-4efb-b664-ee5722f971ef",
   "metadata": {},
   "outputs": [
    {
     "data": {
      "text/html": [
       "<div>\n",
       "<style scoped>\n",
       "    .dataframe tbody tr th:only-of-type {\n",
       "        vertical-align: middle;\n",
       "    }\n",
       "\n",
       "    .dataframe tbody tr th {\n",
       "        vertical-align: top;\n",
       "    }\n",
       "\n",
       "    .dataframe thead th {\n",
       "        text-align: right;\n",
       "    }\n",
       "</style>\n",
       "<table border=\"1\" class=\"dataframe\">\n",
       "  <thead>\n",
       "    <tr style=\"text-align: right;\">\n",
       "      <th></th>\n",
       "      <th>cardio</th>\n",
       "      <th>variable</th>\n",
       "      <th>value</th>\n",
       "    </tr>\n",
       "  </thead>\n",
       "  <tbody>\n",
       "    <tr>\n",
       "      <th>0</th>\n",
       "      <td>0</td>\n",
       "      <td>cholesterol</td>\n",
       "      <td>0</td>\n",
       "    </tr>\n",
       "    <tr>\n",
       "      <th>1</th>\n",
       "      <td>1</td>\n",
       "      <td>cholesterol</td>\n",
       "      <td>1</td>\n",
       "    </tr>\n",
       "    <tr>\n",
       "      <th>2</th>\n",
       "      <td>1</td>\n",
       "      <td>cholesterol</td>\n",
       "      <td>1</td>\n",
       "    </tr>\n",
       "    <tr>\n",
       "      <th>3</th>\n",
       "      <td>1</td>\n",
       "      <td>cholesterol</td>\n",
       "      <td>0</td>\n",
       "    </tr>\n",
       "    <tr>\n",
       "      <th>4</th>\n",
       "      <td>0</td>\n",
       "      <td>cholesterol</td>\n",
       "      <td>0</td>\n",
       "    </tr>\n",
       "  </tbody>\n",
       "</table>\n",
       "</div>"
      ],
      "text/plain": [
       "  cardio     variable  value\n",
       "0      0  cholesterol      0\n",
       "1      1  cholesterol      1\n",
       "2      1  cholesterol      1\n",
       "3      1  cholesterol      0\n",
       "4      0  cholesterol      0"
      ]
     },
     "execution_count": 30,
     "metadata": {},
     "output_type": "execute_result"
    }
   ],
   "source": [
    "dfB_long = pd.melt(dfB, id_vars='cardio', value_vars=['cholesterol', 'gluc', 'alco', 'smoke', 'active', 'overweight'])\n",
    "#dfB_long.head()\n",
    "#En este formato, la variable 'cardio' se usa como fija y las otras se ordenan en funcion de esta.\n",
    "\n",
    "\n",
    "\n",
    "#Convierto algunos valores a categorias\n",
    "for col in ['cardio', 'variable']:\n",
    "    dfB_long[col] = dfB_long[col].astype('category')\n",
    "\n",
    "dfB_long.head()"
   ]
  },
  {
   "cell_type": "code",
   "execution_count": 31,
   "id": "aa2f795e-8a75-43ea-a82e-60b0ec0db4c5",
   "metadata": {},
   "outputs": [
    {
     "data": {
      "image/png": "[encoded data removed]",
      "text/plain": [
       "<Figure size 762.375x360 with 2 Axes>"
      ]
     },
     "metadata": {
      "needs_background": "light"
     },
     "output_type": "display_data"
    }
   ],
   "source": [
    "g = sns.catplot(x=\"variable\", col=\"cardio\", data= dfB_long, hue=\"value\", kind= 'count', orient= \"v\")\n",
    "#EL GRAFICO ESTÁ OKAY"
   ]
  },
  {
   "cell_type": "markdown",
   "id": "4c9a38cb-f3f1-4b94-ba68-e2a69c48441f",
   "metadata": {},
   "source": [
    "**Clean the data.** Filter out the following patient segments that represent incorrect data:\n",
    "diastolic pressure is higher than systolic (Keep the correct data with (df['ap_lo'] <= df['ap_hi']))\n",
    "height is less than the 2.5th percentile (Keep the correct data with (df['height'] >= df['height'].quantile(0.025)))\n",
    "height is more than the 97.5th percentile\n",
    "weight is less than the 2.5th percentile\n",
    "weight is more than the 97.5th percentile"
   ]
  },
  {
   "cell_type": "code",
   "execution_count": 32,
   "id": "281e7894-75fb-42f1-983b-1f2a4df4c872",
   "metadata": {},
   "outputs": [],
   "source": [
    "#df.info()\n",
    "#df['ap_lo'] <= df['ap_hi'])"
   ]
  },
  {
   "cell_type": "code",
   "execution_count": 33,
   "id": "d879d8f1-d293-47e2-ac6e-acc913b0be33",
   "metadata": {},
   "outputs": [
    {
     "data": {
      "text/plain": [
       "(68766, 14)"
      ]
     },
     "execution_count": 33,
     "metadata": {},
     "output_type": "execute_result"
    }
   ],
   "source": [
    "#Guardo los cambios en el dataframe dfB. Con el metodo shape, puedo ir controlando que el dataframe \n",
    "#se modifica, es decir que tiene menos lineas ya que el original (df) es de 70000 x 14\n",
    "dfB = dfB[dfB['ap_lo']<=dfB['ap_hi']]\n",
    "dfB.shape"
   ]
  },
  {
   "cell_type": "code",
   "execution_count": 34,
   "id": "63a370a1-e83e-4bf7-95a2-0996e26adb26",
   "metadata": {},
   "outputs": [],
   "source": [
    "# Acomodo la alturab. OJO que si empiezo a correr esto sucesivas veces, el dataframe se achica cada vez mas!!\n",
    "dfB = dfB[dfB['height'] >= dfB['height'].quantile(0.025)]\n",
    "dfB = dfB[dfB['height'] <= dfB['height'].quantile(0.975)] "
   ]
  },
  {
   "cell_type": "code",
   "execution_count": 35,
   "id": "9e3aa860-7a65-4bc6-a943-f763d942618e",
   "metadata": {},
   "outputs": [],
   "source": [
    "# Acomodo los pesos\n",
    "dfB = dfB[dfB['weight'] >= dfB['weight'].quantile(0.025)]\n",
    "dfB = dfB[dfB['weight'] <= dfB['weight'].quantile(0.975)]"
   ]
  },
  {
   "cell_type": "markdown",
   "id": "1dac9d8d-43fe-411f-a1db-29224db8ca64",
   "metadata": {},
   "source": [
    "**Create a correlation matrix using the dataset. Plot the correlation matrix using seaborn's heatmap(). Mask the upper triangle. The chart should look like examples/Figure_2.png.**"
   ]
  },
  {
   "cell_type": "code",
   "execution_count": 40,
   "id": "2b648cbf-acaf-4533-bfaf-a07bfddf9a36",
   "metadata": {},
   "outputs": [
    {
     "data": {
      "text/plain": [
       "'#len(corr_matrix.columns)\\nmask= []\\nfor i in range (len(corr_matrix.columns)):\\n    mask_i = []\\n    for j in range (len(corr_matrix.columns)):\\n        if j>i:\\n            mask_i.append(True)\\n        else:\\n            mask_i.append(False)\\n    mask.append(mask_i)\\n\\n(mask[1][0])'"
      ]
     },
     "execution_count": 40,
     "metadata": {},
     "output_type": "execute_result"
    }
   ],
   "source": [
    "# First we create the correlation matrix\n",
    "corr_matrix = dfB.corr()\n",
    "\n",
    "# We create a mask, to not display some squares\n",
    "\n",
    "upper_triangle=np.triu(corr_matrix)\n",
    "\n",
    "# A mask can also be created like this. But this way, the graph in the next cell appeared blank\n",
    "\"\"\"#len(corr_matrix.columns)\n",
    "mask= []\n",
    "for i in range (len(corr_matrix.columns)):\n",
    "    mask_i = []\n",
    "    for j in range (len(corr_matrix.columns)):\n",
    "        if j>i:\n",
    "            mask_i.append(True)\n",
    "        else:\n",
    "            mask_i.append(False)\n",
    "    mask.append(mask_i)\n",
    "\n",
    "(mask[1][0])\"\"\""
   ]
  },
  {
   "cell_type": "code",
   "execution_count": 42,
   "id": "016c2260-a5cb-4bb9-89b8-f215f937ddaa",
   "metadata": {},
   "outputs": [
    {
     "data": {
      "image/png": "[encoded data removed]",
      "text/plain": [
       "<Figure size 648x648 with 2 Axes>"
      ]
     },
     "metadata": {
      "needs_background": "light"
     },
     "output_type": "display_data"
    }
   ],
   "source": [
    "# Creamos una nueva figura con Matplotlib y seteamos el tamaño:\n",
    "fig=plt.gcf()\n",
    "fig.set_size_inches(9,9)\n",
    "sns.heatmap(np.round(corr_matrix,1), mask=upper_triangle, annot=True, square=True);\n",
    "# The numbers were rounded to the first decimal place"
   ]
  },
  {
   "cell_type": "code",
   "execution_count": null,
   "id": "7bd601a4-8174-4c8e-ad5c-84e152432257",
   "metadata": {},
   "outputs": [],
   "source": [
    "np.vstack?"
   ]
  },
  {
   "cell_type": "code",
   "execution_count": 24,
   "id": "fa27ac3f-da97-42a7-9dd8-1526655317df",
   "metadata": {},
   "outputs": [
    {
     "name": "stdout",
     "output_type": "stream",
     "text": [
      "[[1, 2, 3, 4, 5], [6, 7, 8, 9, 10]]\n"
     ]
    }
   ],
   "source": [
    "A= [[1, 2, 3, 4, 5],[6,7,8,9,10]]\n",
    "print(A)"
   ]
  },
  {
   "cell_type": "code",
   "execution_count": 38,
   "id": "1fe75b08-680c-4f92-98a9-d31d963307dc",
   "metadata": {},
   "outputs": [
    {
     "data": {
      "text/plain": [
       "array([ 8,  9, 10])"
      ]
     },
     "execution_count": 38,
     "metadata": {},
     "output_type": "execute_result"
    }
   ],
   "source": [
    "A=np.asarray(A)\n",
    "type(A)\n",
    "\n",
    "A[1, 2:]"
   ]
  },
  {
   "cell_type": "code",
   "execution_count": null,
   "id": "f94482e8-4f4f-4a6d-8189-2e9f906f9fd2",
   "metadata": {},
   "outputs": [],
   "source": []
  }
 ],
 "metadata": {
  "kernelspec": {
   "display_name": "reactord",
   "language": "python",
   "name": "python3"
  },
  "language_info": {
   "codemirror_mode": {
    "name": "ipython",
    "version": 3
   },
   "file_extension": ".py",
   "mimetype": "text/x-python",
   "name": "python",
   "nbconvert_exporter": "python",
   "pygments_lexer": "ipython3",
   "version": "3.10.6"
  },
  "vscode": {
   "interpreter": {
    "hash": "0da960acde017608603fcb155815528bc626e42a5841520214e4e02be5770591"
   }
  }
 },
 "nbformat": 4,
 "nbformat_minor": 5
}
