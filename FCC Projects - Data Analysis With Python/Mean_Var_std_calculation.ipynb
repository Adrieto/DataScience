{
 "cells": [
  {
   "cell_type": "code",
   "execution_count": 17,
   "id": "269696a4-c898-4a8d-acd9-146679645bdf",
   "metadata": {},
   "outputs": [],
   "source": [
    "import numpy as np\n",
    "import pandas as pd"
   ]
  },
  {
   "cell_type": "code",
   "execution_count": 18,
   "id": "b928e509-a94e-47c0-ada7-1c3ec9928fe8",
   "metadata": {},
   "outputs": [],
   "source": [
    "#lista= [0,1,2,3,4,5,6,7,8]\n",
    "lista= [2,6,2,8,4,0,1,]\n"
   ]
  },
  {
   "cell_type": "code",
   "execution_count": 19,
   "id": "afb76aa9-8a8a-4ec9-9f63-c72aaa8a618b",
   "metadata": {},
   "outputs": [],
   "source": [
    "def calculate(list):\n",
    "    array = np.array(list)\n",
    "    lis_aux= ['mean','variance','standard deviation','max','min','sum']\n",
    "    #lis_Col= [meanC,varC,stdC,minC,maxC,sumC]\n",
    "    \n",
    "    \n",
    "    if len(array)<9:\n",
    "        raise ValueError ('List must contain nine numbers.')\n",
    "    \n",
    "    array = array.reshape(3,3)\n",
    "     \n",
    "    \n",
    "    #for i in range len(lis_aux):\n",
    "        \n",
    "    #FOR COLUMNS\n",
    "    meanC= array.mean(axis=0).tolist()\n",
    "    varC= array.var(axis=0).tolist()\n",
    "    stdC= array.std(axis=0).tolist()\n",
    "    minC= array.min(axis=0).tolist()\n",
    "    maxC= array.max(axis=0).tolist()\n",
    "    sumC= array.sum(axis=0).tolist()\n",
    "\n",
    "    #FOR ROWS\n",
    "    meanR= array.mean(axis=1).tolist()\n",
    "    varR= array.var(axis=1).tolist()\n",
    "    stdR= array.std(axis=1).tolist()\n",
    "    minR= array.min(axis=1).tolist()\n",
    "    maxR= array.max(axis=1).tolist()\n",
    "    sumR= array.sum(axis=1).tolist()\n",
    "    \n",
    "    #metodo tolist()\n",
    "    \n",
    "    #FLATTENED\n",
    "    mean= array.mean().tolist()\n",
    "    var= array.var().tolist()\n",
    "    std= array.std().tolist()\n",
    "    Min= array.min().tolist()\n",
    "    Max= array.max().tolist()\n",
    "    Suma= array.sum().tolist()\n",
    "    \n",
    "    \n",
    "    Means= [meanC,meanR,mean]\n",
    "    Vars= [varC,varR,var]\n",
    "    Stds= [stdC,stdR,std]\n",
    "    Maxs= [maxC,maxR,Max]\n",
    "    Mins= [minC,minR,Min]    \n",
    "    Sums= [sumC,sumR,Suma]\n",
    "    \n",
    "    List_Out= [Means,Vars,Stds,Maxs,Mins,Sums]\n",
    "    \n",
    "    calculations=dict()\n",
    "    i=0\n",
    "    for word in lis_aux:\n",
    "        calculations[word] = List_Out [i] \n",
    "        i=i+1\n",
    "    \n",
    "    return calculations\n",
    "#LOS VALORES DEVUELTOS EN EL DICCIONARIO DEBEN SER LISTAS DE PYTHON Y NO NUMPY ARRAYS"
   ]
  },
  {
   "cell_type": "code",
   "execution_count": 20,
   "id": "4f4d1f55-d336-4f31-8410-cba745cbbd82",
   "metadata": {},
   "outputs": [
    {
     "ename": "ValueError",
     "evalue": "List must contain nine numbers.",
     "output_type": "error",
     "traceback": [
      "\u001b[1;31m---------------------------------------------------------------------------\u001b[0m",
      "\u001b[1;31mValueError\u001b[0m                                Traceback (most recent call last)",
      "Input \u001b[1;32mIn [20]\u001b[0m, in \u001b[0;36m<cell line: 1>\u001b[1;34m()\u001b[0m\n\u001b[1;32m----> 1\u001b[0m A\u001b[38;5;241m=\u001b[39m\u001b[43mcalculate\u001b[49m\u001b[43m \u001b[49m\u001b[43m(\u001b[49m\u001b[43mlista\u001b[49m\u001b[43m)\u001b[49m\n\u001b[0;32m      2\u001b[0m \u001b[38;5;28mprint\u001b[39m(A, \u001b[38;5;28mtype\u001b[39m(A))\n",
      "Input \u001b[1;32mIn [19]\u001b[0m, in \u001b[0;36mcalculate\u001b[1;34m(list)\u001b[0m\n\u001b[0;32m      4\u001b[0m \u001b[38;5;66;03m#lis_Col= [meanC,varC,stdC,minC,maxC,sumC]\u001b[39;00m\n\u001b[0;32m      7\u001b[0m \u001b[38;5;28;01mif\u001b[39;00m \u001b[38;5;28mlen\u001b[39m(array)\u001b[38;5;241m<\u001b[39m\u001b[38;5;241m9\u001b[39m:\n\u001b[1;32m----> 8\u001b[0m     \u001b[38;5;28;01mraise\u001b[39;00m \u001b[38;5;167;01mValueError\u001b[39;00m (\u001b[38;5;124m'\u001b[39m\u001b[38;5;124mList must contain nine numbers.\u001b[39m\u001b[38;5;124m'\u001b[39m)\n\u001b[0;32m     10\u001b[0m array \u001b[38;5;241m=\u001b[39m array\u001b[38;5;241m.\u001b[39mreshape(\u001b[38;5;241m3\u001b[39m,\u001b[38;5;241m3\u001b[39m)\n\u001b[0;32m     13\u001b[0m \u001b[38;5;66;03m#for i in range len(lis_aux):\u001b[39;00m\n\u001b[0;32m     14\u001b[0m     \n\u001b[0;32m     15\u001b[0m \u001b[38;5;66;03m#FOR COLUMNS\u001b[39;00m\n",
      "\u001b[1;31mValueError\u001b[0m: List must contain nine numbers."
     ]
    }
   ],
   "source": [
    "A=calculate (lista)\n",
    "print(A, type(A))"
   ]
  },
  {
   "cell_type": "markdown",
   "id": "dbff0493-9a43-46c6-b8c3-1a122211dda3",
   "metadata": {},
   "source": [
    "Proyecto aprobado exitosamente"
   ]
  },
  {
   "cell_type": "code",
   "execution_count": null,
   "id": "78515a53-19c2-4d12-a9c9-09083ebb7e5c",
   "metadata": {},
   "outputs": [],
   "source": []
  }
 ],
 "metadata": {
  "kernelspec": {
   "display_name": "Python 3 (ipykernel)",
   "language": "python",
   "name": "python3"
  },
  "language_info": {
   "codemirror_mode": {
    "name": "ipython",
    "version": 3
   },
   "file_extension": ".py",
   "mimetype": "text/x-python",
   "name": "python",
   "nbconvert_exporter": "python",
   "pygments_lexer": "ipython3",
   "version": "3.9.12"
  }
 },
 "nbformat": 4,
 "nbformat_minor": 5
}
