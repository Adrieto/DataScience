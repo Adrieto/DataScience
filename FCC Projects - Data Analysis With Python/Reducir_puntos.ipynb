{
 "cells": [
  {
   "cell_type": "code",
   "execution_count": 1,
   "metadata": {},
   "outputs": [],
   "source": [
    "import pandas as pd"
   ]
  },
  {
   "cell_type": "code",
   "execution_count": 72,
   "metadata": {},
   "outputs": [
    {
     "data": {
      "text/html": [
       "<div>\n",
       "<style scoped>\n",
       "    .dataframe tbody tr th:only-of-type {\n",
       "        vertical-align: middle;\n",
       "    }\n",
       "\n",
       "    .dataframe tbody tr th {\n",
       "        vertical-align: top;\n",
       "    }\n",
       "\n",
       "    .dataframe thead th {\n",
       "        text-align: right;\n",
       "    }\n",
       "</style>\n",
       "<table border=\"1\" class=\"dataframe\">\n",
       "  <thead>\n",
       "    <tr style=\"text-align: right;\">\n",
       "      <th></th>\n",
       "      <th>ppm</th>\n",
       "      <th>absorbance</th>\n",
       "    </tr>\n",
       "  </thead>\n",
       "  <tbody>\n",
       "    <tr>\n",
       "      <th>0</th>\n",
       "      <td>-1.36142</td>\n",
       "      <td>-3.63632</td>\n",
       "    </tr>\n",
       "    <tr>\n",
       "      <th>1</th>\n",
       "      <td>-1.36079</td>\n",
       "      <td>-3.87846</td>\n",
       "    </tr>\n",
       "    <tr>\n",
       "      <th>2</th>\n",
       "      <td>-1.36017</td>\n",
       "      <td>-3.84279</td>\n",
       "    </tr>\n",
       "    <tr>\n",
       "      <th>3</th>\n",
       "      <td>-1.35954</td>\n",
       "      <td>-4.00273</td>\n",
       "    </tr>\n",
       "    <tr>\n",
       "      <th>4</th>\n",
       "      <td>-1.35891</td>\n",
       "      <td>-3.75526</td>\n",
       "    </tr>\n",
       "    <tr>\n",
       "      <th>...</th>\n",
       "      <td>...</td>\n",
       "      <td>...</td>\n",
       "    </tr>\n",
       "    <tr>\n",
       "      <th>14922</th>\n",
       "      <td>7.99744</td>\n",
       "      <td>0.227194</td>\n",
       "    </tr>\n",
       "    <tr>\n",
       "      <th>14923</th>\n",
       "      <td>7.99807</td>\n",
       "      <td>0.381778</td>\n",
       "    </tr>\n",
       "    <tr>\n",
       "      <th>14924</th>\n",
       "      <td>7.9987</td>\n",
       "      <td>0.459106</td>\n",
       "    </tr>\n",
       "    <tr>\n",
       "      <th>14925</th>\n",
       "      <td>7.99932</td>\n",
       "      <td>0.450922</td>\n",
       "    </tr>\n",
       "    <tr>\n",
       "      <th>14926</th>\n",
       "      <td>7.99995</td>\n",
       "      <td>0.567221</td>\n",
       "    </tr>\n",
       "  </tbody>\n",
       "</table>\n",
       "<p>14927 rows × 2 columns</p>\n",
       "</div>"
      ],
      "text/plain": [
       "            ppm absorbance\n",
       "0      -1.36142   -3.63632\n",
       "1      -1.36079   -3.87846\n",
       "2      -1.36017   -3.84279\n",
       "3      -1.35954   -4.00273\n",
       "4      -1.35891   -3.75526\n",
       "...         ...        ...\n",
       "14922   7.99744   0.227194\n",
       "14923   7.99807   0.381778\n",
       "14924    7.9987   0.459106\n",
       "14925   7.99932   0.450922\n",
       "14926   7.99995   0.567221\n",
       "\n",
       "[14927 rows x 2 columns]"
      ]
     },
     "execution_count": 72,
     "metadata": {},
     "output_type": "execute_result"
    }
   ],
   "source": [
    "df = pd.read_csv(archivo, sep=\"\\t\", decimal= \",\")\n",
    "df.columns = [\"ppm\", \"absorbance\", \"blank\"]\n",
    "\n",
    "df.drop(columns=[\"blank\"])"
   ]
  },
  {
   "cell_type": "code",
   "execution_count": 98,
   "metadata": {},
   "outputs": [
    {
     "name": "stdout",
     "output_type": "stream",
     "text": [
      "ppm           object\n",
      "absorbance    object\n",
      "dtype: object\n"
     ]
    },
    {
     "data": {
      "text/html": [
       "<div>\n",
       "<style scoped>\n",
       "    .dataframe tbody tr th:only-of-type {\n",
       "        vertical-align: middle;\n",
       "    }\n",
       "\n",
       "    .dataframe tbody tr th {\n",
       "        vertical-align: top;\n",
       "    }\n",
       "\n",
       "    .dataframe thead th {\n",
       "        text-align: right;\n",
       "    }\n",
       "</style>\n",
       "<table border=\"1\" class=\"dataframe\">\n",
       "  <thead>\n",
       "    <tr style=\"text-align: right;\">\n",
       "      <th></th>\n",
       "      <th>ppm</th>\n",
       "      <th>absorbance</th>\n",
       "    </tr>\n",
       "  </thead>\n",
       "  <tbody>\n",
       "    <tr>\n",
       "      <th>0</th>\n",
       "      <td>-1.36142</td>\n",
       "      <td>-3.63632</td>\n",
       "    </tr>\n",
       "    <tr>\n",
       "      <th>1</th>\n",
       "      <td>-1.36079</td>\n",
       "      <td>-3.87846</td>\n",
       "    </tr>\n",
       "    <tr>\n",
       "      <th>2</th>\n",
       "      <td>-1.36017</td>\n",
       "      <td>-3.84279</td>\n",
       "    </tr>\n",
       "    <tr>\n",
       "      <th>3</th>\n",
       "      <td>-1.35954</td>\n",
       "      <td>-4.00273</td>\n",
       "    </tr>\n",
       "    <tr>\n",
       "      <th>4</th>\n",
       "      <td>-1.35891</td>\n",
       "      <td>-3.75526</td>\n",
       "    </tr>\n",
       "  </tbody>\n",
       "</table>\n",
       "</div>"
      ],
      "text/plain": [
       "        ppm absorbance\n",
       "0  -1.36142   -3.63632\n",
       "1  -1.36079   -3.87846\n",
       "2  -1.36017   -3.84279\n",
       "3  -1.35954   -4.00273\n",
       "4  -1.35891   -3.75526"
      ]
     },
     "execution_count": 98,
     "metadata": {},
     "output_type": "execute_result"
    }
   ],
   "source": [
    "# Se carga el archivo. En este caso, el mismo no tiene encabezados \n",
    "# (solo numeros). Es un archivo txt\n",
    "archivo = \"E3 - PBE.txt\"\n",
    "df = pd.read_csv(archivo, sep=\"\\t\", decimal= \",\")\n",
    "df.columns = [\"ppm\", \"absorbance\", \"blank\"]\n",
    "df = df.drop(columns=[\"blank\"])\n",
    "\n",
    "\n",
    "print(df.dtypes)\n",
    "df.head()"
   ]
  },
  {
   "cell_type": "code",
   "execution_count": 101,
   "metadata": {},
   "outputs": [
    {
     "data": {
      "text/html": [
       "<div>\n",
       "<style scoped>\n",
       "    .dataframe tbody tr th:only-of-type {\n",
       "        vertical-align: middle;\n",
       "    }\n",
       "\n",
       "    .dataframe tbody tr th {\n",
       "        vertical-align: top;\n",
       "    }\n",
       "\n",
       "    .dataframe thead th {\n",
       "        text-align: right;\n",
       "    }\n",
       "</style>\n",
       "<table border=\"1\" class=\"dataframe\">\n",
       "  <thead>\n",
       "    <tr style=\"text-align: right;\">\n",
       "      <th></th>\n",
       "      <th>absorbance</th>\n",
       "    </tr>\n",
       "    <tr>\n",
       "      <th>ppm</th>\n",
       "      <th></th>\n",
       "    </tr>\n",
       "  </thead>\n",
       "  <tbody>\n",
       "    <tr>\n",
       "      <th>7.99744</th>\n",
       "      <td>0.227194</td>\n",
       "    </tr>\n",
       "    <tr>\n",
       "      <th>7.99807</th>\n",
       "      <td>0.381778</td>\n",
       "    </tr>\n",
       "    <tr>\n",
       "      <th>7.99870</th>\n",
       "      <td>0.459106</td>\n",
       "    </tr>\n",
       "    <tr>\n",
       "      <th>7.99932</th>\n",
       "      <td>0.450922</td>\n",
       "    </tr>\n",
       "    <tr>\n",
       "      <th>7.99995</th>\n",
       "      <td>0.567221</td>\n",
       "    </tr>\n",
       "  </tbody>\n",
       "</table>\n",
       "</div>"
      ],
      "text/plain": [
       "         absorbance\n",
       "ppm                \n",
       "7.99744    0.227194\n",
       "7.99807    0.381778\n",
       "7.99870    0.459106\n",
       "7.99932    0.450922\n",
       "7.99995    0.567221"
      ]
     },
     "execution_count": 101,
     "metadata": {},
     "output_type": "execute_result"
    }
   ],
   "source": []
  },
  {
   "attachments": {},
   "cell_type": "markdown",
   "metadata": {},
   "source": [
    "En este caso particular, tomo el rango de 3<abs<8 para el dataframe\n",
    "y en dicho fragmento, reduzco la cantidad de puntos de manera significativa\n",
    "\n",
    " "
   ]
  },
  {
   "cell_type": "code",
   "execution_count": 111,
   "metadata": {},
   "outputs": [
    {
     "name": "stdout",
     "output_type": "stream",
     "text": [
      "(997, 1) (2318, 1)\n"
     ]
    }
   ],
   "source": [
    "# Separo el dataframe en 2 y reduzco los puntos. \n",
    "# Uno para ppm < 3 y otro para ppm > 3\n",
    "\n",
    "df = df.astype(float)\n",
    "df3_8 = df[(df[\"ppm\"] > 3)]\n",
    "df3_8.set_index (\"ppm\", inplace=True)\n",
    "df3_8_red = df3_8.iloc[::8] # Sintaxis: df.iloc[inicio fin paso]\n",
    "\n",
    "df1_3 = df[(df[\"ppm\"] <= 3)]\n",
    "df1_3.set_index (\"ppm\", inplace=True)\n",
    "df1_3_red = df1_3.iloc[::3] # Sintaxis: df.iloc[inicio fin paso]\n",
    "\n",
    "print(df3_8_red.shape, df1_3_red.shape)\n",
    "\n"
   ]
  },
  {
   "cell_type": "code",
   "execution_count": 115,
   "metadata": {},
   "outputs": [
    {
     "data": {
      "text/plain": [
       "(3315, 1)"
      ]
     },
     "execution_count": 115,
     "metadata": {},
     "output_type": "execute_result"
    }
   ],
   "source": [
    "# Uno los dataframes reducidos\n",
    "df2 = pd.concat([df1_3_red,df3_8_red], axis=0)\n",
    "df2.shape"
   ]
  },
  {
   "cell_type": "code",
   "execution_count": 116,
   "metadata": {},
   "outputs": [],
   "source": [
    "# Ahora guardo los resultados\n",
    "df2.to_csv(\"E3 - PBE modificado con eugenol.csv\")"
   ]
  },
  {
   "cell_type": "code",
   "execution_count": null,
   "metadata": {},
   "outputs": [],
   "source": []
  }
 ],
 "metadata": {
  "kernelspec": {
   "display_name": "reactord",
   "language": "python",
   "name": "python3"
  },
  "language_info": {
   "codemirror_mode": {
    "name": "ipython",
    "version": 3
   },
   "file_extension": ".py",
   "mimetype": "text/x-python",
   "name": "python",
   "nbconvert_exporter": "python",
   "pygments_lexer": "ipython3",
   "version": "3.10.6"
  },
  "orig_nbformat": 4
 },
 "nbformat": 4,
 "nbformat_minor": 2
}
