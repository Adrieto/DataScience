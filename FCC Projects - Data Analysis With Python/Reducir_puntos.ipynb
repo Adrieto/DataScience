{
 "cells": [
  {
   "cell_type": "code",
   "execution_count": 1,
   "metadata": {},
   "outputs": [],
   "source": [
    "import pandas as pd"
   ]
  },
  {
   "cell_type": "code",
   "execution_count": 14,
   "metadata": {},
   "outputs": [
    {
     "data": {
      "text/html": [
       "<div>\n",
       "<style scoped>\n",
       "    .dataframe tbody tr th:only-of-type {\n",
       "        vertical-align: middle;\n",
       "    }\n",
       "\n",
       "    .dataframe tbody tr th {\n",
       "        vertical-align: top;\n",
       "    }\n",
       "\n",
       "    .dataframe thead th {\n",
       "        text-align: right;\n",
       "    }\n",
       "</style>\n",
       "<table border=\"1\" class=\"dataframe\">\n",
       "  <thead>\n",
       "    <tr style=\"text-align: right;\">\n",
       "      <th></th>\n",
       "      <th>E3-PBE</th>\n",
       "      <th>PB sigma</th>\n",
       "      <th>PBE modificado (E2-bis)</th>\n",
       "    </tr>\n",
       "    <tr>\n",
       "      <th>wavenumber</th>\n",
       "      <th></th>\n",
       "      <th></th>\n",
       "      <th></th>\n",
       "    </tr>\n",
       "  </thead>\n",
       "  <tbody>\n",
       "    <tr>\n",
       "      <th>1.00119</th>\n",
       "      <td>1.237690</td>\n",
       "      <td>0.003417</td>\n",
       "      <td>9.046317</td>\n",
       "    </tr>\n",
       "    <tr>\n",
       "      <th>1.00181</th>\n",
       "      <td>1.237529</td>\n",
       "      <td>0.003028</td>\n",
       "      <td>9.047738</td>\n",
       "    </tr>\n",
       "    <tr>\n",
       "      <th>1.00244</th>\n",
       "      <td>1.236573</td>\n",
       "      <td>0.002835</td>\n",
       "      <td>9.049308</td>\n",
       "    </tr>\n",
       "    <tr>\n",
       "      <th>1.00307</th>\n",
       "      <td>1.236518</td>\n",
       "      <td>0.002773</td>\n",
       "      <td>9.046267</td>\n",
       "    </tr>\n",
       "    <tr>\n",
       "      <th>1.00370</th>\n",
       "      <td>1.236386</td>\n",
       "      <td>0.002763</td>\n",
       "      <td>9.048323</td>\n",
       "    </tr>\n",
       "  </tbody>\n",
       "</table>\n",
       "</div>"
      ],
      "text/plain": [
       "              E3-PBE  PB sigma  PBE modificado (E2-bis)\n",
       "wavenumber                                             \n",
       "1.00119     1.237690  0.003417                 9.046317\n",
       "1.00181     1.237529  0.003028                 9.047738\n",
       "1.00244     1.236573  0.002835                 9.049308\n",
       "1.00307     1.236518  0.002773                 9.046267\n",
       "1.00370     1.236386  0.002763                 9.048323"
      ]
     },
     "execution_count": 14,
     "metadata": {},
     "output_type": "execute_result"
    }
   ],
   "source": [
    "# Se carga el archivo. En este caso, el mismo no tiene encabezados \n",
    "# (solo numeros). Es un archivo txt\n",
    "archivo = \"Espectros RMN paper.txt\"\n",
    "df = pd.read_csv(archivo, sep=\"\\t\", decimal= \",\")\n",
    "df.columns = [\"wavenumber\", \"E3-PBE\", \"PB sigma\", \"PBE modificado (E2-bis)\"]\n",
    "df.set_index (\"wavenumber\", inplace=True)\n",
    "df.head()"
   ]
  },
  {
   "cell_type": "code",
   "execution_count": 17,
   "metadata": {},
   "outputs": [],
   "source": [
    "# Sintaxis: df.iloc[inicio fin paso]\n",
    "df2 = df.iloc[::8]\n",
    "\n",
    "# Los valores son strings, por lo que se deben convertir a float:\n",
    "df2 = df2.astype(float)\n",
    "#print(df2.columns)\n",
    "#print(df2.dtypes)\n",
    "#df2.shape"
   ]
  },
  {
   "cell_type": "code",
   "execution_count": 18,
   "metadata": {},
   "outputs": [],
   "source": [
    "# Ahora guardo los resultados\n",
    "df2.to_csv(\"Datos_reducidos.csv\")"
   ]
  }
 ],
 "metadata": {
  "kernelspec": {
   "display_name": "reactord",
   "language": "python",
   "name": "python3"
  },
  "language_info": {
   "codemirror_mode": {
    "name": "ipython",
    "version": 3
   },
   "file_extension": ".py",
   "mimetype": "text/x-python",
   "name": "python",
   "nbconvert_exporter": "python",
   "pygments_lexer": "ipython3",
   "version": "3.10.6"
  },
  "orig_nbformat": 4
 },
 "nbformat": 4,
 "nbformat_minor": 2
}
