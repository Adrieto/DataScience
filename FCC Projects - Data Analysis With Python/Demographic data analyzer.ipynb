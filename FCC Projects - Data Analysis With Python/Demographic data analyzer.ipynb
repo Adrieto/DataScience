{
 "cells": [
  {
   "cell_type": "markdown",
   "id": "5726ef4c-41f8-48a2-b682-9c926158031b",
   "metadata": {},
   "source": [
    "You must use Pandas to answer the following questions:\n",
    "\n",
    "How many people of each race are represented in this dataset? This should be a Pandas series with race names as the index labels. (race column) OKAY\n",
    "\n",
    "What is the average age of men? OKAY\n",
    "\n",
    "What is the percentage of people who have a Bachelor's degree? OKAY\n",
    "\n",
    "What percentage of people with advanced education (Bachelors, Masters, or Doctorate) make more than 50K? OKAY\n",
    "\n",
    "What percentage of people without advanced education make more than 50K? OKAY\n",
    "\n",
    "What is the minimum number of hours a person works per week? OKAY\n",
    "\n",
    "What percentage of the people who work the minimum number of hours per week have a salary of more than 50K? OKAY\n",
    "\n",
    "What country has the highest percentage of people that earn >50K and what is that percentage? OKAY\n",
    "\n",
    "Identify the most popular occupation for those who earn >50K in India. OKAY\n",
    "\n",
    "Use the starter code in the file demographic_data_analyzer. Update the code so all variables set to \"None\"\n",
    "are set to the appropriate calculation or code. Round all decimals to the nearest tenth."
   ]
  },
  {
   "cell_type": "code",
   "execution_count": 1,
   "id": "84d43e9c-e240-4582-a026-e878139222f6",
   "metadata": {},
   "outputs": [],
   "source": [
    "import numpy as np\n",
    "import pandas as pd\n",
    "import math\n",
    "import operator"
   ]
  },
  {
   "cell_type": "code",
   "execution_count": 2,
   "id": "e7e43ae9-db84-4340-af50-9d0c9d66a43d",
   "metadata": {},
   "outputs": [],
   "source": [
    "file= pd.read_csv('adult.data.csv')"
   ]
  },
  {
   "cell_type": "code",
   "execution_count": 3,
   "id": "3be9a8ee-9301-49f7-9f69-d6008cf88a38",
   "metadata": {},
   "outputs": [
    {
     "data": {
      "text/html": [
       "<div>\n",
       "<style scoped>\n",
       "    .dataframe tbody tr th:only-of-type {\n",
       "        vertical-align: middle;\n",
       "    }\n",
       "\n",
       "    .dataframe tbody tr th {\n",
       "        vertical-align: top;\n",
       "    }\n",
       "\n",
       "    .dataframe thead th {\n",
       "        text-align: right;\n",
       "    }\n",
       "</style>\n",
       "<table border=\"1\" class=\"dataframe\">\n",
       "  <thead>\n",
       "    <tr style=\"text-align: right;\">\n",
       "      <th></th>\n",
       "      <th>age</th>\n",
       "      <th>workclass</th>\n",
       "      <th>fnlwgt</th>\n",
       "      <th>education</th>\n",
       "      <th>education-num</th>\n",
       "      <th>marital-status</th>\n",
       "      <th>occupation</th>\n",
       "      <th>relationship</th>\n",
       "      <th>race</th>\n",
       "      <th>sex</th>\n",
       "      <th>capital-gain</th>\n",
       "      <th>capital-loss</th>\n",
       "      <th>hours-per-week</th>\n",
       "      <th>native-country</th>\n",
       "      <th>salary</th>\n",
       "    </tr>\n",
       "  </thead>\n",
       "  <tbody>\n",
       "    <tr>\n",
       "      <th>0</th>\n",
       "      <td>39</td>\n",
       "      <td>State-gov</td>\n",
       "      <td>77516</td>\n",
       "      <td>Bachelors</td>\n",
       "      <td>13</td>\n",
       "      <td>Never-married</td>\n",
       "      <td>Adm-clerical</td>\n",
       "      <td>Not-in-family</td>\n",
       "      <td>White</td>\n",
       "      <td>Male</td>\n",
       "      <td>2174</td>\n",
       "      <td>0</td>\n",
       "      <td>40</td>\n",
       "      <td>United-States</td>\n",
       "      <td>&lt;=50K</td>\n",
       "    </tr>\n",
       "    <tr>\n",
       "      <th>1</th>\n",
       "      <td>50</td>\n",
       "      <td>Self-emp-not-inc</td>\n",
       "      <td>83311</td>\n",
       "      <td>Bachelors</td>\n",
       "      <td>13</td>\n",
       "      <td>Married-civ-spouse</td>\n",
       "      <td>Exec-managerial</td>\n",
       "      <td>Husband</td>\n",
       "      <td>White</td>\n",
       "      <td>Male</td>\n",
       "      <td>0</td>\n",
       "      <td>0</td>\n",
       "      <td>13</td>\n",
       "      <td>United-States</td>\n",
       "      <td>&lt;=50K</td>\n",
       "    </tr>\n",
       "    <tr>\n",
       "      <th>2</th>\n",
       "      <td>38</td>\n",
       "      <td>Private</td>\n",
       "      <td>215646</td>\n",
       "      <td>HS-grad</td>\n",
       "      <td>9</td>\n",
       "      <td>Divorced</td>\n",
       "      <td>Handlers-cleaners</td>\n",
       "      <td>Not-in-family</td>\n",
       "      <td>White</td>\n",
       "      <td>Male</td>\n",
       "      <td>0</td>\n",
       "      <td>0</td>\n",
       "      <td>40</td>\n",
       "      <td>United-States</td>\n",
       "      <td>&lt;=50K</td>\n",
       "    </tr>\n",
       "    <tr>\n",
       "      <th>3</th>\n",
       "      <td>53</td>\n",
       "      <td>Private</td>\n",
       "      <td>234721</td>\n",
       "      <td>11th</td>\n",
       "      <td>7</td>\n",
       "      <td>Married-civ-spouse</td>\n",
       "      <td>Handlers-cleaners</td>\n",
       "      <td>Husband</td>\n",
       "      <td>Black</td>\n",
       "      <td>Male</td>\n",
       "      <td>0</td>\n",
       "      <td>0</td>\n",
       "      <td>40</td>\n",
       "      <td>United-States</td>\n",
       "      <td>&lt;=50K</td>\n",
       "    </tr>\n",
       "    <tr>\n",
       "      <th>4</th>\n",
       "      <td>28</td>\n",
       "      <td>Private</td>\n",
       "      <td>338409</td>\n",
       "      <td>Bachelors</td>\n",
       "      <td>13</td>\n",
       "      <td>Married-civ-spouse</td>\n",
       "      <td>Prof-specialty</td>\n",
       "      <td>Wife</td>\n",
       "      <td>Black</td>\n",
       "      <td>Female</td>\n",
       "      <td>0</td>\n",
       "      <td>0</td>\n",
       "      <td>40</td>\n",
       "      <td>Cuba</td>\n",
       "      <td>&lt;=50K</td>\n",
       "    </tr>\n",
       "  </tbody>\n",
       "</table>\n",
       "</div>"
      ],
      "text/plain": [
       "   age         workclass  fnlwgt  education  education-num  \\\n",
       "0   39         State-gov   77516  Bachelors             13   \n",
       "1   50  Self-emp-not-inc   83311  Bachelors             13   \n",
       "2   38           Private  215646    HS-grad              9   \n",
       "3   53           Private  234721       11th              7   \n",
       "4   28           Private  338409  Bachelors             13   \n",
       "\n",
       "       marital-status         occupation   relationship   race     sex  \\\n",
       "0       Never-married       Adm-clerical  Not-in-family  White    Male   \n",
       "1  Married-civ-spouse    Exec-managerial        Husband  White    Male   \n",
       "2            Divorced  Handlers-cleaners  Not-in-family  White    Male   \n",
       "3  Married-civ-spouse  Handlers-cleaners        Husband  Black    Male   \n",
       "4  Married-civ-spouse     Prof-specialty           Wife  Black  Female   \n",
       "\n",
       "   capital-gain  capital-loss  hours-per-week native-country salary  \n",
       "0          2174             0              40  United-States  <=50K  \n",
       "1             0             0              13  United-States  <=50K  \n",
       "2             0             0              40  United-States  <=50K  \n",
       "3             0             0              40  United-States  <=50K  \n",
       "4             0             0              40           Cuba  <=50K  "
      ]
     },
     "execution_count": 3,
     "metadata": {},
     "output_type": "execute_result"
    }
   ],
   "source": [
    "df = pd.DataFrame(file)\n",
    "#df.info()\n",
    "df.head(5)"
   ]
  },
  {
   "cell_type": "markdown",
   "id": "f574e651-2842-4d03-9472-b4945cb00892",
   "metadata": {},
   "source": [
    "***1- How many people of each race are represented in this dataset? This should be a Pandas series with race names as the index labels. (race column)***"
   ]
  },
  {
   "cell_type": "code",
   "execution_count": 7,
   "id": "0c93032e-c2ea-4bc4-a994-1e37f83cebb0",
   "metadata": {},
   "outputs": [
    {
     "name": "stdout",
     "output_type": "stream",
     "text": [
      "White                 27816\n",
      "Black                  3124\n",
      "Asian-Pac-Islander     1039\n",
      "Amer-Indian-Eskimo      311\n",
      "Other                   271\n",
      "dtype: int64 <class 'pandas.core.series.Series'>\n"
     ]
    }
   ],
   "source": [
    "raza=df['race']\n",
    "raza= np.array(raza)\n",
    "\n",
    "#White race\n",
    "white= raza[raza=='White']\n",
    "white_tot=len(white)\n",
    "\n",
    "#Black race\n",
    "black= raza[raza=='Black']\n",
    "black_tot=len(black)\n",
    "\n",
    "#Otras se definio para ir explorando el DF y ver que razas habian. Son 5 en total\n",
    "other= raza[~ ((raza=='White') | (raza=='Black') | (raza== 'Asian-Pac-Islander')\n",
    "            | (raza=='Amer-Indian-Eskimo'))]\n",
    "other_tot=len(other)\n",
    "\n",
    "As_Pac_Islander= raza[raza =='Asian-Pac-Islander']\n",
    "As_Pac_Islander_tot= len(As_Pac_Islander)\n",
    "\n",
    "Amer_Indian_Eskimo= raza[raza== 'Amer-Indian-Eskimo']\n",
    "Amer_Indian_Eskimo_tot= len(Amer_Indian_Eskimo)\n",
    "\n",
    "a=white_tot\n",
    "b=black_tot\n",
    "c=As_Pac_Islander_tot\n",
    "d=Amer_Indian_Eskimo_tot\n",
    "e=other_tot\n",
    "Final=pd.Series([a,b,c,d,e])\n",
    "Final.index= ['White', 'Black', 'Asian-Pac-Islander', 'Amer-Indian-Eskimo', 'Other']\n",
    "print(Final, type(Final))\n",
    "\n"
   ]
  },
  {
   "cell_type": "code",
   "execution_count": 8,
   "id": "01564ee5-93a4-4e1e-83fa-b50618da008a",
   "metadata": {},
   "outputs": [
    {
     "name": "stdout",
     "output_type": "stream",
     "text": [
      "White                 27816\n",
      "Black                  3124\n",
      "Asian-Pac-Islander     1039\n",
      "Amer-Indian-Eskimo      311\n",
      "Other                   271\n",
      "dtype: int64\n"
     ]
    }
   ],
   "source": [
    "#REPETICION USANDO DICCIONARIOS: LA POSTA\n",
    "raza=df['race']\n",
    "raza= np.array(raza)\n",
    "\n",
    "#Creation of a dictionary to count the people of each race\n",
    "race_dict=dict()\n",
    "for races in raza:\n",
    "    race_dict[races] = race_dict.get(races,0) + 1\n",
    "\n",
    "#Create 2 lists to save the total number and race\n",
    "race_list= []\n",
    "race_ind= []\n",
    "for key, value in race_dict.items():\n",
    "    race_list.append(value)\n",
    "    race_ind.append(key)\n",
    "    \n",
    "    \n",
    "#Convert the previous lists into pd.Series \n",
    "race= pd.Series(race_list, index= race_ind)\n",
    "print(race)\n",
    "\n",
    "\n",
    "#print (race_list, (race_ind))"
   ]
  },
  {
   "cell_type": "markdown",
   "id": "ef1b39b1-82e9-43cd-80c1-e20cb06606a4",
   "metadata": {},
   "source": [
    "***2-Respuesta a la pregunta sobre la edad promedio de los hombres:***"
   ]
  },
  {
   "cell_type": "code",
   "execution_count": 5,
   "id": "c0897981-6d68-4c33-86ce-5c69ace28612",
   "metadata": {},
   "outputs": [
    {
     "data": {
      "text/plain": [
       "39.4"
      ]
     },
     "execution_count": 5,
     "metadata": {},
     "output_type": "execute_result"
    }
   ],
   "source": [
    "#La porcion de la gente que es de sexo masculino está dada por:\n",
    "A=df.loc[df['sex'] == 'Male']\n",
    "\n",
    "#Y la edad promedio es:\n",
    "round(A['age'].mean(),1)"
   ]
  },
  {
   "cell_type": "markdown",
   "id": "0b8cc854-6a92-434b-8ebd-8b9ce416adc5",
   "metadata": {
    "tags": []
   },
   "source": [
    "***3- Porcentaje de gente con \"bachelors degree\" en educacion:***"
   ]
  },
  {
   "cell_type": "code",
   "execution_count": 9,
   "id": "b22249cc-506f-411d-b963-ad3c62598187",
   "metadata": {},
   "outputs": [
    {
     "data": {
      "text/plain": [
       "16.4"
      ]
     },
     "execution_count": 9,
     "metadata": {},
     "output_type": "execute_result"
    }
   ],
   "source": [
    "Bachelors_Count= sum(df['education']=='Bachelors')\n",
    "Total_Count= sum(df['education'] != 'Bachelors') + Bachelors_Count\n",
    "#print(Bachelors_Count)\n",
    "#print(Total_Count)\n",
    "round((Bachelors_Count/Total_Count * 100),1)"
   ]
  },
  {
   "cell_type": "markdown",
   "id": "65792d5e-aa15-419c-bfe9-776483c77c62",
   "metadata": {},
   "source": [
    "El porcentaje de gente con Bachelors es de 16.4%"
   ]
  },
  {
   "cell_type": "markdown",
   "id": "c7508d44-4b74-4263-a6f6-ca1d244226c2",
   "metadata": {},
   "source": [
    "***4-What percentage of people with advanced education (Bachelors, Masters, or Doctorate) make more than 50K?***"
   ]
  },
  {
   "cell_type": "code",
   "execution_count": 9,
   "id": "b7bcd1d8-993f-481a-ac60-5bb308b62769",
   "metadata": {},
   "outputs": [
    {
     "data": {
      "text/plain": [
       "46.5"
      ]
     },
     "execution_count": 9,
     "metadata": {},
     "output_type": "execute_result"
    }
   ],
   "source": [
    "Rich=df[(df['education'] == 'Bachelors') | (df['education'] == 'Masters') | (df['education'] == 'Doctorate')]\n",
    "#Rich\n",
    "\n",
    "# Total de la gente con educacion avanzada que gana arriba de 50 K\n",
    "more50K=sum(Rich['salary'] == '>50K')\n",
    "# Total de gente con educacion avanzada\n",
    "total_adv=len(Rich['salary'])\n",
    "# Porcentaje de gente que gana arriba de 50K entre los que tienen educacion avanzada\n",
    "percentage_adv= round(more50K/total_adv * 100,1) \n",
    "percentage_adv\n",
    "#print(total_adv)"
   ]
  },
  {
   "cell_type": "markdown",
   "id": "a4657541-c9af-49ea-95ca-b5f39d0d27f0",
   "metadata": {},
   "source": [
    "***5-What percentage of people without advanced education make more than 50K?***"
   ]
  },
  {
   "cell_type": "code",
   "execution_count": 10,
   "id": "27bbd3d7-2132-4d2c-a009-83b69d5e6d63",
   "metadata": {},
   "outputs": [
    {
     "name": "stdout",
     "output_type": "stream",
     "text": [
      "17.4\n"
     ]
    }
   ],
   "source": [
    "#Creo un dataframe con la gente que no tiene educacion avanzada:\n",
    "Rich_normal= df[~( (df['education'] == 'Bachelors') | \n",
    "                   (df ['education'] == 'Masters')  | \n",
    "                   (df['education'] == 'Doctorate') )]\n",
    "\n",
    "percentage_normal= sum(Rich_normal['salary'] == '>50K') / len(Rich_normal['salary']) * 100\n",
    "\n",
    "#Redondeo:\n",
    "percentage_normal= round(percentage_normal,1)\n",
    "print(percentage_normal)"
   ]
  },
  {
   "cell_type": "code",
   "execution_count": null,
   "id": "ac3d9306-2682-4d02-a25c-db9766b73db8",
   "metadata": {},
   "outputs": [],
   "source": []
  },
  {
   "cell_type": "markdown",
   "id": "6a9d5ae6-d196-4b02-9fb1-058e693547cf",
   "metadata": {},
   "source": [
    "***6-What is the minimum number of hours a person works per week?***"
   ]
  },
  {
   "cell_type": "code",
   "execution_count": 11,
   "id": "dfa79bcc-6f93-4aa8-9435-6c4ec739abd2",
   "metadata": {},
   "outputs": [
    {
     "name": "stdout",
     "output_type": "stream",
     "text": [
      "1\n"
     ]
    }
   ],
   "source": [
    "#print(df.head(4))\n",
    "min_hours_week = df['hours-per-week'].min()\n",
    "print(min_hours_week)"
   ]
  },
  {
   "cell_type": "markdown",
   "id": "387fc10f-19c3-4f1e-aac3-ca862baf549a",
   "metadata": {},
   "source": [
    "***7-What percentage of the people who work the minimum number of hours per week have a salary of more than 50K?***\n"
   ]
  },
  {
   "cell_type": "code",
   "execution_count": 12,
   "id": "f4271332-0ab3-4f48-a018-87707b5b889e",
   "metadata": {},
   "outputs": [
    {
     "name": "stdout",
     "output_type": "stream",
     "text": [
      "10.0\n"
     ]
    }
   ],
   "source": [
    "# Creo un DataFrame con la gente que trabaja 1 hora\n",
    "X=df[df['hours-per-week'] == min_hours_week]\n",
    "\n",
    "#La cantidad de gente que cumple el criterio(horas=1 y salario >50K) es:\n",
    "a= sum ( X['salary'] == '>50K')\n",
    "\n",
    "#El total de la poblacion que trabaja 1 hora por semana:\n",
    "b= len(X)\n",
    "\n",
    "\n",
    "perc_very_rich= round(a/b * 100, 1)\n",
    "print(perc_very_rich)\n"
   ]
  },
  {
   "cell_type": "markdown",
   "id": "373e3ab6-be73-4f0c-a987-27ee85a1c5d4",
   "metadata": {},
   "source": [
    "***8-What country has the highest percentage of people that earn >50K and what is that percentage? OKAY!***"
   ]
  },
  {
   "cell_type": "code",
   "execution_count": 113,
   "id": "794f2ad0-cfe4-44e3-8fee-7914fa62e6d0",
   "metadata": {},
   "outputs": [
    {
     "name": "stdout",
     "output_type": "stream",
     "text": [
      "<class 'pandas.core.series.Series'>\n",
      "24.6 United-States\n",
      "26.3 Cuba\n",
      "40.0 India\n",
      "41.9 Iran\n"
     ]
    }
   ],
   "source": [
    "#USANDO UN DICCIONARIO EN VEZ DE UNA LISTA\n",
    "#What country has the highest percentage of people that earn >50K and what is that percentage?\n",
    "\n",
    "#Primero trabajo para ver cuantos paises distintos hay para 'native-country'\n",
    "Paises= df['native-country']\n",
    "print(type(Paises))\n",
    "\n",
    "#En el siguiente diccionario aparecen los pares paises: apariciones totales\n",
    "paises_dict= dict()\n",
    "for country in Paises:\n",
    "    paises_dict[country] = paises_dict.get (country, 0) + 1\n",
    "\n",
    "\n",
    "#Seteo el mejor caso:\n",
    "optimal_country= None\n",
    "optimal_percentage = 0\n",
    "\n",
    "dict_ingresos= dict() #Aca voy a guardar el porcentaje de gente con ingresos >50K\n",
    "\n",
    "for pais,value in paises_dict.items():\n",
    "    aux_DF= df.loc[df ['native-country'] == pais ]\n",
    "    Total=value\n",
    "    \n",
    "    #La porcion del DF aux con el pais dado que tiene ingresos >50K:\n",
    "    X = aux_DF[aux_DF['salary'] == '>50K']\n",
    "    mayor50K= len(X)\n",
    "    \n",
    "    porcentaje= round( (mayor50K/Total * 100) , 1)\n",
    "    dict_ingresos [pais]= porcentaje\n",
    "        \n",
    "    if porcentaje > optimal_percentage:\n",
    "        optimal_percentage= porcentaje\n",
    "        optimal_country= pais\n",
    "        print(optimal_percentage, pais)\n",
    "#print(dict_ingresos['Iran'])\n",
    "    "
   ]
  },
  {
   "cell_type": "markdown",
   "id": "170a478a-cd6c-49b6-b89b-0ba4cc7f3505",
   "metadata": {},
   "source": [
    "***9-Identify the most popular occupation for those who earn >50K in India.***"
   ]
  },
  {
   "cell_type": "code",
   "execution_count": 73,
   "id": "11fecea2-de18-49b5-8152-07060b262f3b",
   "metadata": {},
   "outputs": [
    {
     "name": "stdout",
     "output_type": "stream",
     "text": [
      "Prof-specialty\n"
     ]
    }
   ],
   "source": [
    "India= df.loc[df['native-country']== 'India']\n",
    "IndiaMore50K= India.loc[India['salary'] == \">50K\"]\n",
    "\n",
    "occupations= IndiaMore50K['occupation']\n",
    "\n",
    "#Create a dictionary to get the number of people in each occupation\n",
    "jobs_dict= dict()\n",
    "for jobs in occupations:\n",
    "    jobs_dict[jobs]=jobs_dict.get(jobs,0) + 1\n",
    "    \n",
    "#The dictionary is sorted according to number of workers in each ocupation (from higher to lower)\n",
    "# A LIST IS CREATED! jobs_sorted is a list\n",
    "jobs_sorted = sorted (jobs_dict.items(), key= operator.itemgetter(1), reverse= True)\n",
    "\n",
    "\n",
    "Most_Pop_Job=(jobs_sorted[0][0])\n",
    "print(Most_Pop_Job)\n",
    "#print(jobs_sorted, type(jobs_sorted))\n"
   ]
  },
  {
   "cell_type": "code",
   "execution_count": null,
   "id": "4974f296-5245-4f36-b657-8a5d10d1dd0e",
   "metadata": {},
   "outputs": [],
   "source": []
  }
 ],
 "metadata": {
  "kernelspec": {
   "display_name": "Python 3 (ipykernel)",
   "language": "python",
   "name": "python3"
  },
  "language_info": {
   "codemirror_mode": {
    "name": "ipython",
    "version": 3
   },
   "file_extension": ".py",
   "mimetype": "text/x-python",
   "name": "python",
   "nbconvert_exporter": "python",
   "pygments_lexer": "ipython3",
   "version": "3.9.12"
  }
 },
 "nbformat": 4,
 "nbformat_minor": 5
}
