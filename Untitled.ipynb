{
 "cells": [
  {
   "cell_type": "code",
   "execution_count": 5,
   "id": "c1302379-8e5a-4840-85f7-a3a18f9bac40",
   "metadata": {},
   "outputs": [],
   "source": [
    "import numpy as np\n",
    "import pandas as pd"
   ]
  },
  {
   "cell_type": "code",
   "execution_count": 11,
   "id": "9d120c6e-84f8-4ee0-a4da-1ebfec52e610",
   "metadata": {},
   "outputs": [],
   "source": [
    "df = pd.read_csv(\"otc_orderList_data.csv\")"
   ]
  },
  {
   "cell_type": "code",
   "execution_count": 22,
   "id": "7b7bc17a-a3cf-49c0-b647-b937e48a5141",
   "metadata": {},
   "outputs": [],
   "source": [
    "df.columns = (['Número de orden', 'Fecha de reacion', 'Tipo de orden',\n",
    "       'Cripto', 'Fiat', 'Precio total', 'Precio', 'Monto',\n",
    "       'Unnamed: 8'])"
   ]
  },
  {
   "cell_type": "code",
   "execution_count": 41,
   "id": "6d2d5100-8772-4a46-ae5c-8c9e0e4abbef",
   "metadata": {},
   "outputs": [],
   "source": [
    "df.loc[:,\"Monto\"] = (df.loc[:,\"Monto\"]).astype(\"float\")"
   ]
  },
  {
   "cell_type": "code",
   "execution_count": 45,
   "id": "a8bcc60b-1856-4fb5-8277-e575cabad18b",
   "metadata": {},
   "outputs": [],
   "source": [
    "df.to_csv(\"Tuvieja.csv\")"
   ]
  }
 ],
 "metadata": {
  "kernelspec": {
   "display_name": "Python 3 (ipykernel)",
   "language": "python",
   "name": "python3"
  },
  "language_info": {
   "codemirror_mode": {
    "name": "ipython",
    "version": 3
   },
   "file_extension": ".py",
   "mimetype": "text/x-python",
   "name": "python",
   "nbconvert_exporter": "python",
   "pygments_lexer": "ipython3",
   "version": "3.9.12"
  }
 },
 "nbformat": 4,
 "nbformat_minor": 5
}
